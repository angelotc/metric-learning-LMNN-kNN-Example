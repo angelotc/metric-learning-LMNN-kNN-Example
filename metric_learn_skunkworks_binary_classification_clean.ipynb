{
  "nbformat": 4,
  "nbformat_minor": 0,
  "metadata": {
    "colab": {
      "name": "metric-learn-skunkworks-binary-classification-clean",
      "provenance": [],
      "collapsed_sections": [],
      "toc_visible": true,
      "include_colab_link": true
    },
    "kernelspec": {
      "name": "python3",
      "display_name": "Python 3"
    },
    "language_info": {
      "name": "python"
    }
  },
  "cells": [
    {
      "cell_type": "markdown",
      "metadata": {
        "id": "view-in-github",
        "colab_type": "text"
      },
      "source": [
        "<a href=\"https://colab.research.google.com/github/angelotc/metric-learning-LMNN-kNN-Example/blob/main/metric_learn_skunkworks_binary_classification_clean.ipynb\" target=\"_parent\"><img src=\"https://colab.research.google.com/assets/colab-badge.svg\" alt=\"Open In Colab\"/></a>"
      ]
    },
    {
      "cell_type": "code",
      "metadata": {
        "id": "Kvo0Q-hNVq4j",
        "colab": {
          "base_uri": "https://localhost:8080/"
        },
        "outputId": "10f1e18e-f1d7-4fab-ebb9-8fd5befa2ce6"
      },
      "source": [
        "!pip install git+https://github.com/johny-c/metric-learn.git@lmnn\n",
        "import matplotlib.pyplot as plt\n",
        "\n",
        "from sklearn.datasets import make_friedman1\n",
        "import pandas as pd\n",
        "import numpy as np\n",
        "\n",
        "\n",
        "def friedman_np_to_df(X,y):\n",
        "  return pd.DataFrame(X,columns=['x0','x1', 'x2', 'x3', 'x4']), pd.Series(y)\n",
        "\n",
        "# Make training set. We don't care about Y so call it NA.\n",
        "X_train, NA1 = make_friedman1(n_samples=1000, n_features=5, random_state = 1) \n",
        "X_train, NA1 = friedman_np_to_df(X_train,NA1)\n",
        "\n",
        "#categorize training set based off of x0\n",
        "domain_list = []\n",
        "for i in range(len(X_train)):\n",
        "  if X_train.iloc[i]['x0'] < 0.6 :\n",
        "    domain_list.append(1)\n",
        "  else:\n",
        "    domain_list.append(0)\n",
        "\n",
        "\n",
        "X_train['domain'] = domain_list\n",
        "\n",
        "# Set training set to where domain == 1 (x0 < 0.6), but also add ~60 out-of-domain samples (X_train['domain'] == 1 )\n",
        "\n",
        "out_of_domain = X_train[X_train['domain'] == 0][:60]\n",
        "X_train =  X_train[X_train['domain']==1]\n",
        "X_train = pd.concat([out_of_domain, X_train])\n",
        "y_train = X_train.copy()\n",
        "X_train = X_train.drop(columns = ['domain'])\n",
        "y_train = y_train['domain']\n",
        "\n",
        "\n",
        "\n",
        "# Make testing set with a different random_state\n",
        "X_test, NA2 = make_friedman1(n_samples=1000, n_features=5, random_state = 3)\n",
        "X_test, NA2 = friedman_np_to_df(X_test,NA2)\n",
        "\n",
        "\n",
        "#categorize testing set based off of x0\n",
        "domain_list = []\n",
        "for i in range(len(X_test)):\n",
        "  if X_test.iloc[i]['x0'] < 0.6:\n",
        "    domain_list.append(1)\n",
        "  else:\n",
        "    domain_list.append(0)\n",
        "X_test['domain'] = domain_list\n",
        "\n",
        "y_test = X_test['domain'].copy()\n",
        "X_test = X_test.drop(columns = ['domain'])\n",
        "\n",
        "\n",
        "from sklearn.neighbors import KNeighborsClassifier\n",
        "from sklearn.model_selection import train_test_split, GridSearchCV\n",
        "from sklearn.pipeline import Pipeline\n",
        "from metric_learn import LMNN\n",
        "lmnn_knn = Pipeline(steps=[('lmnn', LMNN()), ('knn', KNeighborsClassifier())])\n",
        "# new implementation version\n",
        "parameters = {\n",
        "              'lmnn__n_neighbors':[2,3],\n",
        "              'knn__n_neighbors':[2,3],\n",
        "              'knn__weights': ['uniform','distance'],\n",
        "              'knn__algorithm': ['auto', 'ball_tree', 'kd_tree', 'brute'],\n",
        "              'knn__leaf_size': [28,30,32],\n",
        "              'knn__metric': [ 'manhattan', 'mahalanobis', 'minkowski']}\n",
        "# Main version\n",
        "# parameters = {'lmnn__init': ['pca', 'lda', 'identity', 'random'],\n",
        "#               'lmnn__k':[2,3],\n",
        "#               'knn__n_neighbors':[2,3],\n",
        "#               'knn__weights': ['uniform','distance'],\n",
        "#               'knn__algorithm': ['auto', 'ball_tree', 'kd_tree', 'brute'],\n",
        "#               'knn__leaf_size': [28,30,32],\n",
        "#               'knn__metric': [ 'manhattan', 'mahalanobis', 'minkowski']}\n",
        "grid_lmnn_knn = GridSearchCV(lmnn_knn, parameters,cv = 5, n_jobs=-1, verbose=True, scoring='roc_auc')\n",
        "\n",
        "grid_lmnn_knn = grid_lmnn_knn.fit(X_train, y_train)\n",
        "grid_lmnn_knn.score(np.array(X_test), np.array(y_test))\n",
        "\n",
        "\n"
      ],
      "execution_count": null,
      "outputs": [
        {
          "output_type": "stream",
          "text": [
            "Fitting 5 folds for each of 288 candidates, totalling 1440 fits\n"
          ],
          "name": "stdout"
        },
        {
          "output_type": "stream",
          "text": [
            "[Parallel(n_jobs=-1)]: Using backend LokyBackend with 2 concurrent workers.\n",
            "[Parallel(n_jobs=-1)]: Done  46 tasks      | elapsed:    5.7s\n",
            "[Parallel(n_jobs=-1)]: Done 196 tasks      | elapsed:   20.8s\n",
            "[Parallel(n_jobs=-1)]: Done 446 tasks      | elapsed:   46.2s\n",
            "[Parallel(n_jobs=-1)]: Done 796 tasks      | elapsed:  1.4min\n",
            "[Parallel(n_jobs=-1)]: Done 1246 tasks      | elapsed:  2.1min\n",
            "[Parallel(n_jobs=-1)]: Done 1440 out of 1440 | elapsed:  2.5min finished\n"
          ],
          "name": "stderr"
        },
        {
          "output_type": "execute_result",
          "data": {
            "text/plain": [
              "0.9274757514827321"
            ]
          },
          "metadata": {
            "tags": []
          },
          "execution_count": 14
        }
      ]
    },
    {
      "cell_type": "code",
      "metadata": {
        "colab": {
          "base_uri": "https://localhost:8080/",
          "height": 295
        },
        "id": "DPcXrix9WrkS",
        "outputId": "d7a5f0c7-f9ba-4b2b-9b75-999b392ad8e4"
      },
      "source": [
        "\n",
        "# PLOT Curve\n",
        "\n",
        "from sklearn.metrics import roc_curve,auc\n",
        "y_prob = grid_lmnn_knn.predict_proba(X_test)[:,1]\n",
        "fpr, tpr, thresholds = roc_curve(y_test, y_prob)\n",
        "roc_auc = auc(fpr,tpr)\n",
        "\n",
        "\n",
        "import matplotlib.pyplot as plt\n",
        "plt.title('Receiver Operating Characteristic')\n",
        "plt.plot(fpr, tpr, 'b', label = 'AUC = %0.2f' % roc_auc)\n",
        "plt.legend(loc = 'lower right')\n",
        "plt.plot([0, 1], [0, 1],'r--')\n",
        "plt.xlim([0, 1])\n",
        "plt.ylim([0, 1])\n",
        "plt.ylabel('True Positive Rate')\n",
        "plt.xlabel('False Positive Rate')\n",
        "plt.show()"
      ],
      "execution_count": null,
      "outputs": [
        {
          "output_type": "display_data",
          "data": {
            "image/png": "[encoded data removed]",
            "text/plain": [
              "<Figure size 432x288 with 1 Axes>"
            ]
          },
          "metadata": {
            "tags": [],
            "needs_background": "light"
          }
        }
      ]
    },
    {
      "cell_type": "code",
      "metadata": {
        "id": "-7b6UiTQo19A"
      },
      "source": [
        ""
      ],
      "execution_count": null,
      "outputs": []
    }
  ]
}